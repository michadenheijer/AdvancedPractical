{
 "cells": [
  {
   "cell_type": "markdown",
   "metadata": {},
   "source": [
    "# Actual Results\n",
    "## Imports"
   ]
  },
  {
   "cell_type": "code",
   "execution_count": 1,
   "metadata": {},
   "outputs": [],
   "source": [
    "import pandas as pd\n",
    "import numpy as np\n",
    "import matplotlib.pyplot as plt\n",
    "import scipy.stats as sts\n",
    "import statsmodels.api as stm\n",
    "\n",
    "from statsmodels.tsa.ar_model import AutoReg\n",
    "from io import StringIO\n",
    "\n",
    "import os"
   ]
  },
  {
   "cell_type": "markdown",
   "metadata": {},
   "source": [
    "## Load data"
   ]
  },
  {
   "cell_type": "code",
   "execution_count": 2,
   "metadata": {},
   "outputs": [
    {
     "data": {
      "text/html": [
       "<div>\n",
       "<style scoped>\n",
       "    .dataframe tbody tr th:only-of-type {\n",
       "        vertical-align: middle;\n",
       "    }\n",
       "\n",
       "    .dataframe tbody tr th {\n",
       "        vertical-align: top;\n",
       "    }\n",
       "\n",
       "    .dataframe thead th {\n",
       "        text-align: right;\n",
       "    }\n",
       "</style>\n",
       "<table border=\"1\" class=\"dataframe\">\n",
       "  <thead>\n",
       "    <tr style=\"text-align: right;\">\n",
       "      <th></th>\n",
       "      <th></th>\n",
       "      <th>YYYYMMDD</th>\n",
       "      <th>HH</th>\n",
       "      <th>DD</th>\n",
       "      <th>FH</th>\n",
       "      <th>FF</th>\n",
       "      <th>FX</th>\n",
       "      <th>T</th>\n",
       "      <th>T10N</th>\n",
       "      <th>TD</th>\n",
       "      <th>SQ</th>\n",
       "      <th>...</th>\n",
       "      <th>N</th>\n",
       "      <th>U</th>\n",
       "      <th>WW</th>\n",
       "      <th>IX</th>\n",
       "      <th>M</th>\n",
       "      <th>R</th>\n",
       "      <th>S</th>\n",
       "      <th>O</th>\n",
       "      <th>Y</th>\n",
       "      <th>RH-fix</th>\n",
       "    </tr>\n",
       "    <tr>\n",
       "      <th>date</th>\n",
       "      <th>STN</th>\n",
       "      <th></th>\n",
       "      <th></th>\n",
       "      <th></th>\n",
       "      <th></th>\n",
       "      <th></th>\n",
       "      <th></th>\n",
       "      <th></th>\n",
       "      <th></th>\n",
       "      <th></th>\n",
       "      <th></th>\n",
       "      <th></th>\n",
       "      <th></th>\n",
       "      <th></th>\n",
       "      <th></th>\n",
       "      <th></th>\n",
       "      <th></th>\n",
       "      <th></th>\n",
       "      <th></th>\n",
       "      <th></th>\n",
       "      <th></th>\n",
       "      <th></th>\n",
       "    </tr>\n",
       "  </thead>\n",
       "  <tbody>\n",
       "    <tr>\n",
       "      <th>1971-01-01 00:00:00</th>\n",
       "      <th>240</th>\n",
       "      <td>19710101</td>\n",
       "      <td>1</td>\n",
       "      <td>140</td>\n",
       "      <td>15.0</td>\n",
       "      <td>10</td>\n",
       "      <td>26.0</td>\n",
       "      <td>-87</td>\n",
       "      <td>NaN</td>\n",
       "      <td>-95.0</td>\n",
       "      <td>NaN</td>\n",
       "      <td>...</td>\n",
       "      <td>9.0</td>\n",
       "      <td>93.0</td>\n",
       "      <td>49.0</td>\n",
       "      <td>NaN</td>\n",
       "      <td>1.0</td>\n",
       "      <td>0.0</td>\n",
       "      <td>0.0</td>\n",
       "      <td>0.0</td>\n",
       "      <td>0.0</td>\n",
       "      <td>0.0</td>\n",
       "    </tr>\n",
       "    <tr>\n",
       "      <th>1971-01-01 01:00:00</th>\n",
       "      <th>240</th>\n",
       "      <td>19710101</td>\n",
       "      <td>2</td>\n",
       "      <td>130</td>\n",
       "      <td>10.0</td>\n",
       "      <td>10</td>\n",
       "      <td>26.0</td>\n",
       "      <td>-80</td>\n",
       "      <td>NaN</td>\n",
       "      <td>-87.0</td>\n",
       "      <td>NaN</td>\n",
       "      <td>...</td>\n",
       "      <td>9.0</td>\n",
       "      <td>94.0</td>\n",
       "      <td>49.0</td>\n",
       "      <td>NaN</td>\n",
       "      <td>1.0</td>\n",
       "      <td>0.0</td>\n",
       "      <td>0.0</td>\n",
       "      <td>0.0</td>\n",
       "      <td>0.0</td>\n",
       "      <td>0.0</td>\n",
       "    </tr>\n",
       "    <tr>\n",
       "      <th>1971-01-01 02:00:00</th>\n",
       "      <th>240</th>\n",
       "      <td>19710101</td>\n",
       "      <td>3</td>\n",
       "      <td>190</td>\n",
       "      <td>10.0</td>\n",
       "      <td>10</td>\n",
       "      <td>21.0</td>\n",
       "      <td>-73</td>\n",
       "      <td>NaN</td>\n",
       "      <td>-80.0</td>\n",
       "      <td>NaN</td>\n",
       "      <td>...</td>\n",
       "      <td>9.0</td>\n",
       "      <td>94.0</td>\n",
       "      <td>49.0</td>\n",
       "      <td>NaN</td>\n",
       "      <td>1.0</td>\n",
       "      <td>0.0</td>\n",
       "      <td>0.0</td>\n",
       "      <td>0.0</td>\n",
       "      <td>0.0</td>\n",
       "      <td>0.0</td>\n",
       "    </tr>\n",
       "    <tr>\n",
       "      <th>1971-01-01 03:00:00</th>\n",
       "      <th>240</th>\n",
       "      <td>19710101</td>\n",
       "      <td>4</td>\n",
       "      <td>210</td>\n",
       "      <td>10.0</td>\n",
       "      <td>10</td>\n",
       "      <td>21.0</td>\n",
       "      <td>-77</td>\n",
       "      <td>NaN</td>\n",
       "      <td>-84.0</td>\n",
       "      <td>NaN</td>\n",
       "      <td>...</td>\n",
       "      <td>9.0</td>\n",
       "      <td>94.0</td>\n",
       "      <td>49.0</td>\n",
       "      <td>NaN</td>\n",
       "      <td>1.0</td>\n",
       "      <td>0.0</td>\n",
       "      <td>0.0</td>\n",
       "      <td>0.0</td>\n",
       "      <td>0.0</td>\n",
       "      <td>0.0</td>\n",
       "    </tr>\n",
       "    <tr>\n",
       "      <th>1971-01-01 04:00:00</th>\n",
       "      <th>240</th>\n",
       "      <td>19710101</td>\n",
       "      <td>5</td>\n",
       "      <td>190</td>\n",
       "      <td>15.0</td>\n",
       "      <td>15</td>\n",
       "      <td>21.0</td>\n",
       "      <td>-84</td>\n",
       "      <td>NaN</td>\n",
       "      <td>-91.0</td>\n",
       "      <td>NaN</td>\n",
       "      <td>...</td>\n",
       "      <td>9.0</td>\n",
       "      <td>94.0</td>\n",
       "      <td>49.0</td>\n",
       "      <td>NaN</td>\n",
       "      <td>1.0</td>\n",
       "      <td>0.0</td>\n",
       "      <td>0.0</td>\n",
       "      <td>0.0</td>\n",
       "      <td>0.0</td>\n",
       "      <td>0.0</td>\n",
       "    </tr>\n",
       "    <tr>\n",
       "      <th>...</th>\n",
       "      <th>...</th>\n",
       "      <td>...</td>\n",
       "      <td>...</td>\n",
       "      <td>...</td>\n",
       "      <td>...</td>\n",
       "      <td>...</td>\n",
       "      <td>...</td>\n",
       "      <td>...</td>\n",
       "      <td>...</td>\n",
       "      <td>...</td>\n",
       "      <td>...</td>\n",
       "      <td>...</td>\n",
       "      <td>...</td>\n",
       "      <td>...</td>\n",
       "      <td>...</td>\n",
       "      <td>...</td>\n",
       "      <td>...</td>\n",
       "      <td>...</td>\n",
       "      <td>...</td>\n",
       "      <td>...</td>\n",
       "      <td>...</td>\n",
       "      <td>...</td>\n",
       "    </tr>\n",
       "    <tr>\n",
       "      <th>2020-12-31 19:00:00</th>\n",
       "      <th>260</th>\n",
       "      <td>20201231</td>\n",
       "      <td>20</td>\n",
       "      <td>220</td>\n",
       "      <td>10.0</td>\n",
       "      <td>10</td>\n",
       "      <td>20.0</td>\n",
       "      <td>14</td>\n",
       "      <td>NaN</td>\n",
       "      <td>10.0</td>\n",
       "      <td>0.0</td>\n",
       "      <td>...</td>\n",
       "      <td>8.0</td>\n",
       "      <td>96.0</td>\n",
       "      <td>10.0</td>\n",
       "      <td>7.0</td>\n",
       "      <td>0.0</td>\n",
       "      <td>0.0</td>\n",
       "      <td>0.0</td>\n",
       "      <td>0.0</td>\n",
       "      <td>0.0</td>\n",
       "      <td>0.0</td>\n",
       "    </tr>\n",
       "    <tr>\n",
       "      <th>2020-12-31 20:00:00</th>\n",
       "      <th>260</th>\n",
       "      <td>20201231</td>\n",
       "      <td>21</td>\n",
       "      <td>290</td>\n",
       "      <td>10.0</td>\n",
       "      <td>10</td>\n",
       "      <td>20.0</td>\n",
       "      <td>6</td>\n",
       "      <td>NaN</td>\n",
       "      <td>4.0</td>\n",
       "      <td>0.0</td>\n",
       "      <td>...</td>\n",
       "      <td>1.0</td>\n",
       "      <td>98.0</td>\n",
       "      <td>34.0</td>\n",
       "      <td>7.0</td>\n",
       "      <td>1.0</td>\n",
       "      <td>0.0</td>\n",
       "      <td>0.0</td>\n",
       "      <td>0.0</td>\n",
       "      <td>0.0</td>\n",
       "      <td>0.0</td>\n",
       "    </tr>\n",
       "    <tr>\n",
       "      <th>2020-12-31 21:00:00</th>\n",
       "      <th>260</th>\n",
       "      <td>20201231</td>\n",
       "      <td>22</td>\n",
       "      <td>200</td>\n",
       "      <td>10.0</td>\n",
       "      <td>10</td>\n",
       "      <td>20.0</td>\n",
       "      <td>-10</td>\n",
       "      <td>NaN</td>\n",
       "      <td>-13.0</td>\n",
       "      <td>0.0</td>\n",
       "      <td>...</td>\n",
       "      <td>3.0</td>\n",
       "      <td>98.0</td>\n",
       "      <td>35.0</td>\n",
       "      <td>7.0</td>\n",
       "      <td>1.0</td>\n",
       "      <td>0.0</td>\n",
       "      <td>0.0</td>\n",
       "      <td>0.0</td>\n",
       "      <td>1.0</td>\n",
       "      <td>0.0</td>\n",
       "    </tr>\n",
       "    <tr>\n",
       "      <th>2020-12-31 22:00:00</th>\n",
       "      <th>260</th>\n",
       "      <td>20201231</td>\n",
       "      <td>23</td>\n",
       "      <td>240</td>\n",
       "      <td>10.0</td>\n",
       "      <td>10</td>\n",
       "      <td>10.0</td>\n",
       "      <td>-17</td>\n",
       "      <td>NaN</td>\n",
       "      <td>-19.0</td>\n",
       "      <td>0.0</td>\n",
       "      <td>...</td>\n",
       "      <td>3.0</td>\n",
       "      <td>99.0</td>\n",
       "      <td>35.0</td>\n",
       "      <td>7.0</td>\n",
       "      <td>1.0</td>\n",
       "      <td>0.0</td>\n",
       "      <td>0.0</td>\n",
       "      <td>0.0</td>\n",
       "      <td>1.0</td>\n",
       "      <td>0.0</td>\n",
       "    </tr>\n",
       "    <tr>\n",
       "      <th>2020-12-31 23:00:00</th>\n",
       "      <th>260</th>\n",
       "      <td>20201231</td>\n",
       "      <td>24</td>\n",
       "      <td>230</td>\n",
       "      <td>10.0</td>\n",
       "      <td>10</td>\n",
       "      <td>10.0</td>\n",
       "      <td>-21</td>\n",
       "      <td>-14.0</td>\n",
       "      <td>-21.0</td>\n",
       "      <td>0.0</td>\n",
       "      <td>...</td>\n",
       "      <td>7.0</td>\n",
       "      <td>99.0</td>\n",
       "      <td>35.0</td>\n",
       "      <td>7.0</td>\n",
       "      <td>1.0</td>\n",
       "      <td>0.0</td>\n",
       "      <td>0.0</td>\n",
       "      <td>0.0</td>\n",
       "      <td>1.0</td>\n",
       "      <td>0.0</td>\n",
       "    </tr>\n",
       "  </tbody>\n",
       "</table>\n",
       "<p>1878408 rows × 25 columns</p>\n",
       "</div>"
      ],
      "text/plain": [
       "                         YYYYMMDD  HH   DD    FH  FF    FX   T  T10N    TD  \\\n",
       "date                STN                                                      \n",
       "1971-01-01 00:00:00 240  19710101   1  140  15.0  10  26.0 -87   NaN -95.0   \n",
       "1971-01-01 01:00:00 240  19710101   2  130  10.0  10  26.0 -80   NaN -87.0   \n",
       "1971-01-01 02:00:00 240  19710101   3  190  10.0  10  21.0 -73   NaN -80.0   \n",
       "1971-01-01 03:00:00 240  19710101   4  210  10.0  10  21.0 -77   NaN -84.0   \n",
       "1971-01-01 04:00:00 240  19710101   5  190  15.0  15  21.0 -84   NaN -91.0   \n",
       "...                           ...  ..  ...   ...  ..   ...  ..   ...   ...   \n",
       "2020-12-31 19:00:00 260  20201231  20  220  10.0  10  20.0  14   NaN  10.0   \n",
       "2020-12-31 20:00:00 260  20201231  21  290  10.0  10  20.0   6   NaN   4.0   \n",
       "2020-12-31 21:00:00 260  20201231  22  200  10.0  10  20.0 -10   NaN -13.0   \n",
       "2020-12-31 22:00:00 260  20201231  23  240  10.0  10  10.0 -17   NaN -19.0   \n",
       "2020-12-31 23:00:00 260  20201231  24  230  10.0  10  10.0 -21 -14.0 -21.0   \n",
       "\n",
       "                          SQ  ...    N     U    WW   IX    M    R    S    O  \\\n",
       "date                STN       ...                                             \n",
       "1971-01-01 00:00:00 240  NaN  ...  9.0  93.0  49.0  NaN  1.0  0.0  0.0  0.0   \n",
       "1971-01-01 01:00:00 240  NaN  ...  9.0  94.0  49.0  NaN  1.0  0.0  0.0  0.0   \n",
       "1971-01-01 02:00:00 240  NaN  ...  9.0  94.0  49.0  NaN  1.0  0.0  0.0  0.0   \n",
       "1971-01-01 03:00:00 240  NaN  ...  9.0  94.0  49.0  NaN  1.0  0.0  0.0  0.0   \n",
       "1971-01-01 04:00:00 240  NaN  ...  9.0  94.0  49.0  NaN  1.0  0.0  0.0  0.0   \n",
       "...                      ...  ...  ...   ...   ...  ...  ...  ...  ...  ...   \n",
       "2020-12-31 19:00:00 260  0.0  ...  8.0  96.0  10.0  7.0  0.0  0.0  0.0  0.0   \n",
       "2020-12-31 20:00:00 260  0.0  ...  1.0  98.0  34.0  7.0  1.0  0.0  0.0  0.0   \n",
       "2020-12-31 21:00:00 260  0.0  ...  3.0  98.0  35.0  7.0  1.0  0.0  0.0  0.0   \n",
       "2020-12-31 22:00:00 260  0.0  ...  3.0  99.0  35.0  7.0  1.0  0.0  0.0  0.0   \n",
       "2020-12-31 23:00:00 260  0.0  ...  7.0  99.0  35.0  7.0  1.0  0.0  0.0  0.0   \n",
       "\n",
       "                           Y  RH-fix  \n",
       "date                STN               \n",
       "1971-01-01 00:00:00 240  0.0     0.0  \n",
       "1971-01-01 01:00:00 240  0.0     0.0  \n",
       "1971-01-01 02:00:00 240  0.0     0.0  \n",
       "1971-01-01 03:00:00 240  0.0     0.0  \n",
       "1971-01-01 04:00:00 240  0.0     0.0  \n",
       "...                      ...     ...  \n",
       "2020-12-31 19:00:00 260  0.0     0.0  \n",
       "2020-12-31 20:00:00 260  0.0     0.0  \n",
       "2020-12-31 21:00:00 260  1.0     0.0  \n",
       "2020-12-31 22:00:00 260  1.0     0.0  \n",
       "2020-12-31 23:00:00 260  1.0     0.0  \n",
       "\n",
       "[1878408 rows x 25 columns]"
      ]
     },
     "execution_count": 2,
     "metadata": {},
     "output_type": "execute_result"
    }
   ],
   "source": [
    "weather_data = pd.DataFrame()\n",
    "\n",
    "for file in os.listdir(\"weather-data\"):\n",
    "    with open(f\"weather-data/{file}\") as f:\n",
    "        data = f.read()\n",
    "        data = data[data.find(\"#\")+1:] # Only read \n",
    "        curr_data = pd.read_csv(StringIO(data), low_memory=False)\n",
    "        weather_data = pd.concat([weather_data, curr_data])\n",
    "    \n",
    "weather_data.columns = weather_data.columns.str.strip()\n",
    "weather_data: pd.DataFrame = weather_data.apply(pd.to_numeric, errors='coerce')\n",
    "date = pd.to_datetime(weather_data[\"YYYYMMDD\"].astype(str) + (weather_data[\"HH\"] - 1).astype(str).str.zfill(2), format=\"%Y%m%d%H\", errors='coerce')\n",
    "weather_data = pd.concat([date, weather_data], axis=1)\n",
    "weather_data.rename({0: \"date\"}, axis=1, inplace=True)\n",
    "weather_data.loc[:, \"RH-fix\"] = weather_data[\"RH\"].replace({-1: 0}) / 10\n",
    "weather_data.set_index([\"date\", \"STN\"], inplace=True)\n",
    "weather_data.to_hdf(\"weather_data.hdf5\", \"measured_data\")\n",
    "weather_data"
   ]
  },
  {
   "cell_type": "markdown",
   "metadata": {},
   "source": [
    "## Average rain per day"
   ]
  },
  {
   "cell_type": "code",
   "execution_count": 3,
   "metadata": {},
   "outputs": [
    {
     "ename": "ValueError",
     "evalue": "time data '20201.01.0' does not match format '%Y%m%d' (match)",
     "output_type": "error",
     "traceback": [
      "\u001b[0;31m---------------------------------------------------------------------------\u001b[0m",
      "\u001b[0;31mTypeError\u001b[0m                                 Traceback (most recent call last)",
      "\u001b[0;32m~/opt/anaconda3/lib/python3.8/site-packages/pandas/core/tools/datetimes.py\u001b[0m in \u001b[0;36m_to_datetime_with_format\u001b[0;34m(arg, orig_arg, name, tz, fmt, exact, errors, infer_datetime_format)\u001b[0m\n\u001b[1;32m    509\u001b[0m         \u001b[0;32mtry\u001b[0m\u001b[0;34m:\u001b[0m\u001b[0;34m\u001b[0m\u001b[0;34m\u001b[0m\u001b[0m\n\u001b[0;32m--> 510\u001b[0;31m             \u001b[0mvalues\u001b[0m\u001b[0;34m,\u001b[0m \u001b[0mtz\u001b[0m \u001b[0;34m=\u001b[0m \u001b[0mconversion\u001b[0m\u001b[0;34m.\u001b[0m\u001b[0mdatetime_to_datetime64\u001b[0m\u001b[0;34m(\u001b[0m\u001b[0marg\u001b[0m\u001b[0;34m)\u001b[0m\u001b[0;34m\u001b[0m\u001b[0;34m\u001b[0m\u001b[0m\n\u001b[0m\u001b[1;32m    511\u001b[0m             \u001b[0mdta\u001b[0m \u001b[0;34m=\u001b[0m \u001b[0mDatetimeArray\u001b[0m\u001b[0;34m(\u001b[0m\u001b[0mvalues\u001b[0m\u001b[0;34m,\u001b[0m \u001b[0mdtype\u001b[0m\u001b[0;34m=\u001b[0m\u001b[0mtz_to_dtype\u001b[0m\u001b[0;34m(\u001b[0m\u001b[0mtz\u001b[0m\u001b[0;34m)\u001b[0m\u001b[0;34m)\u001b[0m\u001b[0;34m\u001b[0m\u001b[0;34m\u001b[0m\u001b[0m\n",
      "\u001b[0;32mpandas/_libs/tslibs/conversion.pyx\u001b[0m in \u001b[0;36mpandas._libs.tslibs.conversion.datetime_to_datetime64\u001b[0;34m()\u001b[0m\n",
      "\u001b[0;31mTypeError\u001b[0m: Unrecognized value type: <class 'str'>",
      "\nDuring handling of the above exception, another exception occurred:\n",
      "\u001b[0;31mValueError\u001b[0m                                Traceback (most recent call last)",
      "\u001b[0;32m<ipython-input-3-3299f1dbd265>\u001b[0m in \u001b[0;36m<module>\u001b[0;34m\u001b[0m\n\u001b[1;32m      1\u001b[0m \u001b[0mday_rainfall\u001b[0m \u001b[0;34m=\u001b[0m \u001b[0mweather_data\u001b[0m\u001b[0;34m.\u001b[0m\u001b[0mgroupby\u001b[0m\u001b[0;34m(\u001b[0m\u001b[0;34m[\u001b[0m\u001b[0mweather_data\u001b[0m\u001b[0;34m.\u001b[0m\u001b[0mindex\u001b[0m\u001b[0;34m.\u001b[0m\u001b[0mget_level_values\u001b[0m\u001b[0;34m(\u001b[0m\u001b[0;36m0\u001b[0m\u001b[0;34m)\u001b[0m\u001b[0;34m.\u001b[0m\u001b[0mmonth\u001b[0m\u001b[0;34m,\u001b[0m \u001b[0mweather_data\u001b[0m\u001b[0;34m.\u001b[0m\u001b[0mindex\u001b[0m\u001b[0;34m.\u001b[0m\u001b[0mget_level_values\u001b[0m\u001b[0;34m(\u001b[0m\u001b[0;36m0\u001b[0m\u001b[0;34m)\u001b[0m\u001b[0;34m.\u001b[0m\u001b[0mday\u001b[0m\u001b[0;34m]\u001b[0m\u001b[0;34m)\u001b[0m\u001b[0;34m.\u001b[0m\u001b[0mmean\u001b[0m\u001b[0;34m(\u001b[0m\u001b[0;34m)\u001b[0m\u001b[0;34m[\u001b[0m\u001b[0;34m\"RH-fix\"\u001b[0m\u001b[0;34m]\u001b[0m\u001b[0;34m\u001b[0m\u001b[0;34m\u001b[0m\u001b[0m\n\u001b[0;32m----> 2\u001b[0;31m \u001b[0mday_rainfall\u001b[0m\u001b[0;34m.\u001b[0m\u001b[0mindex\u001b[0m \u001b[0;34m=\u001b[0m \u001b[0mpd\u001b[0m\u001b[0;34m.\u001b[0m\u001b[0mto_datetime\u001b[0m\u001b[0;34m(\u001b[0m\u001b[0;34m\"2020\"\u001b[0m \u001b[0;34m+\u001b[0m \u001b[0mday_rainfall\u001b[0m\u001b[0;34m.\u001b[0m\u001b[0mindex\u001b[0m\u001b[0;34m.\u001b[0m\u001b[0mget_level_values\u001b[0m\u001b[0;34m(\u001b[0m\u001b[0;36m0\u001b[0m\u001b[0;34m)\u001b[0m\u001b[0;34m.\u001b[0m\u001b[0mastype\u001b[0m\u001b[0;34m(\u001b[0m\u001b[0mstr\u001b[0m\u001b[0;34m)\u001b[0m\u001b[0;34m.\u001b[0m\u001b[0mstr\u001b[0m\u001b[0;34m.\u001b[0m\u001b[0mzfill\u001b[0m\u001b[0;34m(\u001b[0m\u001b[0;36m2\u001b[0m\u001b[0;34m)\u001b[0m \u001b[0;34m+\u001b[0m \u001b[0mday_rainfall\u001b[0m\u001b[0;34m.\u001b[0m\u001b[0mindex\u001b[0m\u001b[0;34m.\u001b[0m\u001b[0mget_level_values\u001b[0m\u001b[0;34m(\u001b[0m\u001b[0;36m1\u001b[0m\u001b[0;34m)\u001b[0m\u001b[0;34m.\u001b[0m\u001b[0mastype\u001b[0m\u001b[0;34m(\u001b[0m\u001b[0mstr\u001b[0m\u001b[0;34m)\u001b[0m\u001b[0;34m.\u001b[0m\u001b[0mstr\u001b[0m\u001b[0;34m.\u001b[0m\u001b[0mzfill\u001b[0m\u001b[0;34m(\u001b[0m\u001b[0;36m2\u001b[0m\u001b[0;34m)\u001b[0m\u001b[0;34m,\u001b[0m \u001b[0mformat\u001b[0m\u001b[0;34m=\u001b[0m\u001b[0;34m\"%Y%m%d\"\u001b[0m\u001b[0;34m)\u001b[0m\u001b[0;34m\u001b[0m\u001b[0;34m\u001b[0m\u001b[0m\n\u001b[0m\u001b[1;32m      3\u001b[0m \u001b[0mday_rainfall\u001b[0m\u001b[0;34m.\u001b[0m\u001b[0mewm\u001b[0m\u001b[0;34m(\u001b[0m\u001b[0;36m14\u001b[0m\u001b[0;34m)\u001b[0m\u001b[0;34m.\u001b[0m\u001b[0mmean\u001b[0m\u001b[0;34m(\u001b[0m\u001b[0;34m)\u001b[0m\u001b[0;34m.\u001b[0m\u001b[0mplot\u001b[0m\u001b[0;34m(\u001b[0m\u001b[0mxlabel\u001b[0m\u001b[0;34m=\u001b[0m\u001b[0;34m\"month\"\u001b[0m\u001b[0;34m,\u001b[0m \u001b[0mylabel\u001b[0m\u001b[0;34m=\u001b[0m\u001b[0;34m\"average rain per hour (mm)\"\u001b[0m\u001b[0;34m,\u001b[0m \u001b[0mtitle\u001b[0m\u001b[0;34m=\u001b[0m\u001b[0;34m\"Average rainfall per hour\"\u001b[0m\u001b[0;34m)\u001b[0m\u001b[0;34m\u001b[0m\u001b[0;34m\u001b[0m\u001b[0m\n",
      "\u001b[0;32m~/opt/anaconda3/lib/python3.8/site-packages/pandas/core/tools/datetimes.py\u001b[0m in \u001b[0;36mto_datetime\u001b[0;34m(arg, errors, dayfirst, yearfirst, utc, format, exact, unit, infer_datetime_format, origin, cache)\u001b[0m\n\u001b[1;32m   1058\u001b[0m             \u001b[0mresult\u001b[0m \u001b[0;34m=\u001b[0m \u001b[0m_convert_and_box_cache\u001b[0m\u001b[0;34m(\u001b[0m\u001b[0marg\u001b[0m\u001b[0;34m,\u001b[0m \u001b[0mcache_array\u001b[0m\u001b[0;34m,\u001b[0m \u001b[0mname\u001b[0m\u001b[0;34m=\u001b[0m\u001b[0marg\u001b[0m\u001b[0;34m.\u001b[0m\u001b[0mname\u001b[0m\u001b[0;34m)\u001b[0m\u001b[0;34m\u001b[0m\u001b[0;34m\u001b[0m\u001b[0m\n\u001b[1;32m   1059\u001b[0m         \u001b[0;32melse\u001b[0m\u001b[0;34m:\u001b[0m\u001b[0;34m\u001b[0m\u001b[0;34m\u001b[0m\u001b[0m\n\u001b[0;32m-> 1060\u001b[0;31m             \u001b[0mresult\u001b[0m \u001b[0;34m=\u001b[0m \u001b[0mconvert_listlike\u001b[0m\u001b[0;34m(\u001b[0m\u001b[0marg\u001b[0m\u001b[0;34m,\u001b[0m \u001b[0mformat\u001b[0m\u001b[0;34m,\u001b[0m \u001b[0mname\u001b[0m\u001b[0;34m=\u001b[0m\u001b[0marg\u001b[0m\u001b[0;34m.\u001b[0m\u001b[0mname\u001b[0m\u001b[0;34m)\u001b[0m\u001b[0;34m\u001b[0m\u001b[0;34m\u001b[0m\u001b[0m\n\u001b[0m\u001b[1;32m   1061\u001b[0m     \u001b[0;32melif\u001b[0m \u001b[0mis_list_like\u001b[0m\u001b[0;34m(\u001b[0m\u001b[0marg\u001b[0m\u001b[0;34m)\u001b[0m\u001b[0;34m:\u001b[0m\u001b[0;34m\u001b[0m\u001b[0;34m\u001b[0m\u001b[0m\n\u001b[1;32m   1062\u001b[0m         \u001b[0;32mtry\u001b[0m\u001b[0;34m:\u001b[0m\u001b[0;34m\u001b[0m\u001b[0;34m\u001b[0m\u001b[0m\n",
      "\u001b[0;32m~/opt/anaconda3/lib/python3.8/site-packages/pandas/core/tools/datetimes.py\u001b[0m in \u001b[0;36m_convert_listlike_datetimes\u001b[0;34m(arg, format, name, tz, unit, errors, infer_datetime_format, dayfirst, yearfirst, exact)\u001b[0m\n\u001b[1;32m    392\u001b[0m \u001b[0;34m\u001b[0m\u001b[0m\n\u001b[1;32m    393\u001b[0m     \u001b[0;32mif\u001b[0m \u001b[0mformat\u001b[0m \u001b[0;32mis\u001b[0m \u001b[0;32mnot\u001b[0m \u001b[0;32mNone\u001b[0m\u001b[0;34m:\u001b[0m\u001b[0;34m\u001b[0m\u001b[0;34m\u001b[0m\u001b[0m\n\u001b[0;32m--> 394\u001b[0;31m         res = _to_datetime_with_format(\n\u001b[0m\u001b[1;32m    395\u001b[0m             \u001b[0marg\u001b[0m\u001b[0;34m,\u001b[0m \u001b[0morig_arg\u001b[0m\u001b[0;34m,\u001b[0m \u001b[0mname\u001b[0m\u001b[0;34m,\u001b[0m \u001b[0mtz\u001b[0m\u001b[0;34m,\u001b[0m \u001b[0mformat\u001b[0m\u001b[0;34m,\u001b[0m \u001b[0mexact\u001b[0m\u001b[0;34m,\u001b[0m \u001b[0merrors\u001b[0m\u001b[0;34m,\u001b[0m \u001b[0minfer_datetime_format\u001b[0m\u001b[0;34m\u001b[0m\u001b[0;34m\u001b[0m\u001b[0m\n\u001b[1;32m    396\u001b[0m         )\n",
      "\u001b[0;32m~/opt/anaconda3/lib/python3.8/site-packages/pandas/core/tools/datetimes.py\u001b[0m in \u001b[0;36m_to_datetime_with_format\u001b[0;34m(arg, orig_arg, name, tz, fmt, exact, errors, infer_datetime_format)\u001b[0m\n\u001b[1;32m    512\u001b[0m             \u001b[0;32mreturn\u001b[0m \u001b[0mDatetimeIndex\u001b[0m\u001b[0;34m.\u001b[0m\u001b[0m_simple_new\u001b[0m\u001b[0;34m(\u001b[0m\u001b[0mdta\u001b[0m\u001b[0;34m,\u001b[0m \u001b[0mname\u001b[0m\u001b[0;34m=\u001b[0m\u001b[0mname\u001b[0m\u001b[0;34m)\u001b[0m\u001b[0;34m\u001b[0m\u001b[0;34m\u001b[0m\u001b[0m\n\u001b[1;32m    513\u001b[0m         \u001b[0;32mexcept\u001b[0m \u001b[0;34m(\u001b[0m\u001b[0mValueError\u001b[0m\u001b[0;34m,\u001b[0m \u001b[0mTypeError\u001b[0m\u001b[0;34m)\u001b[0m\u001b[0;34m:\u001b[0m\u001b[0;34m\u001b[0m\u001b[0;34m\u001b[0m\u001b[0m\n\u001b[0;32m--> 514\u001b[0;31m             \u001b[0;32mraise\u001b[0m \u001b[0merr\u001b[0m\u001b[0;34m\u001b[0m\u001b[0;34m\u001b[0m\u001b[0m\n\u001b[0m\u001b[1;32m    515\u001b[0m \u001b[0;34m\u001b[0m\u001b[0m\n\u001b[1;32m    516\u001b[0m \u001b[0;34m\u001b[0m\u001b[0m\n",
      "\u001b[0;32m~/opt/anaconda3/lib/python3.8/site-packages/pandas/core/tools/datetimes.py\u001b[0m in \u001b[0;36m_to_datetime_with_format\u001b[0;34m(arg, orig_arg, name, tz, fmt, exact, errors, infer_datetime_format)\u001b[0m\n\u001b[1;32m    499\u001b[0m \u001b[0;34m\u001b[0m\u001b[0m\n\u001b[1;32m    500\u001b[0m         \u001b[0;31m# fallback\u001b[0m\u001b[0;34m\u001b[0m\u001b[0;34m\u001b[0m\u001b[0;34m\u001b[0m\u001b[0m\n\u001b[0;32m--> 501\u001b[0;31m         res = _array_strptime_with_fallback(\n\u001b[0m\u001b[1;32m    502\u001b[0m             \u001b[0marg\u001b[0m\u001b[0;34m,\u001b[0m \u001b[0mname\u001b[0m\u001b[0;34m,\u001b[0m \u001b[0mtz\u001b[0m\u001b[0;34m,\u001b[0m \u001b[0mfmt\u001b[0m\u001b[0;34m,\u001b[0m \u001b[0mexact\u001b[0m\u001b[0;34m,\u001b[0m \u001b[0merrors\u001b[0m\u001b[0;34m,\u001b[0m \u001b[0minfer_datetime_format\u001b[0m\u001b[0;34m\u001b[0m\u001b[0;34m\u001b[0m\u001b[0m\n\u001b[1;32m    503\u001b[0m         )\n",
      "\u001b[0;32m~/opt/anaconda3/lib/python3.8/site-packages/pandas/core/tools/datetimes.py\u001b[0m in \u001b[0;36m_array_strptime_with_fallback\u001b[0;34m(arg, name, tz, fmt, exact, errors, infer_datetime_format)\u001b[0m\n\u001b[1;32m    435\u001b[0m \u001b[0;34m\u001b[0m\u001b[0m\n\u001b[1;32m    436\u001b[0m     \u001b[0;32mtry\u001b[0m\u001b[0;34m:\u001b[0m\u001b[0;34m\u001b[0m\u001b[0;34m\u001b[0m\u001b[0m\n\u001b[0;32m--> 437\u001b[0;31m         \u001b[0mresult\u001b[0m\u001b[0;34m,\u001b[0m \u001b[0mtimezones\u001b[0m \u001b[0;34m=\u001b[0m \u001b[0marray_strptime\u001b[0m\u001b[0;34m(\u001b[0m\u001b[0marg\u001b[0m\u001b[0;34m,\u001b[0m \u001b[0mfmt\u001b[0m\u001b[0;34m,\u001b[0m \u001b[0mexact\u001b[0m\u001b[0;34m=\u001b[0m\u001b[0mexact\u001b[0m\u001b[0;34m,\u001b[0m \u001b[0merrors\u001b[0m\u001b[0;34m=\u001b[0m\u001b[0merrors\u001b[0m\u001b[0;34m)\u001b[0m\u001b[0;34m\u001b[0m\u001b[0;34m\u001b[0m\u001b[0m\n\u001b[0m\u001b[1;32m    438\u001b[0m         \u001b[0;32mif\u001b[0m \u001b[0;34m\"%Z\"\u001b[0m \u001b[0;32min\u001b[0m \u001b[0mfmt\u001b[0m \u001b[0;32mor\u001b[0m \u001b[0;34m\"%z\"\u001b[0m \u001b[0;32min\u001b[0m \u001b[0mfmt\u001b[0m\u001b[0;34m:\u001b[0m\u001b[0;34m\u001b[0m\u001b[0;34m\u001b[0m\u001b[0m\n\u001b[1;32m    439\u001b[0m             \u001b[0;32mreturn\u001b[0m \u001b[0m_return_parsed_timezone_results\u001b[0m\u001b[0;34m(\u001b[0m\u001b[0mresult\u001b[0m\u001b[0;34m,\u001b[0m \u001b[0mtimezones\u001b[0m\u001b[0;34m,\u001b[0m \u001b[0mtz\u001b[0m\u001b[0;34m,\u001b[0m \u001b[0mname\u001b[0m\u001b[0;34m)\u001b[0m\u001b[0;34m\u001b[0m\u001b[0;34m\u001b[0m\u001b[0m\n",
      "\u001b[0;32mpandas/_libs/tslibs/strptime.pyx\u001b[0m in \u001b[0;36mpandas._libs.tslibs.strptime.array_strptime\u001b[0;34m()\u001b[0m\n",
      "\u001b[0;31mValueError\u001b[0m: time data '20201.01.0' does not match format '%Y%m%d' (match)"
     ]
    }
   ],
   "source": [
    "day_rainfall = weather_data.groupby([weather_data.index.get_level_values(0).month, weather_data.index.get_level_values(0).day]).mean()[\"RH-fix\"]\n",
    "day_rainfall.index = pd.to_datetime(\"2020\" + day_rainfall.index.get_level_values(0).astype(str).str.zfill(2) + day_rainfall.index.get_level_values(1).astype(str).str.zfill(2), format=\"%Y%m%d\")\n",
    "day_rainfall.ewm(14).mean().plot(xlabel=\"month\", ylabel=\"average rain per hour (mm)\", title=\"Average rainfall per hour\")"
   ]
  },
  {
   "cell_type": "markdown",
   "metadata": {},
   "source": [
    "## Rain per hour"
   ]
  },
  {
   "cell_type": "code",
   "execution_count": null,
   "metadata": {},
   "outputs": [
    {
     "data": {
      "text/plain": [
       "<AxesSubplot:title={'center':'Average rain'}, xlabel='hour', ylabel='average rain per hour (mm)'>"
      ]
     },
     "execution_count": 4,
     "metadata": {},
     "output_type": "execute_result"
    },
    {
     "data": {
      "image/png": "[encoded data removed]",
      "text/plain": [
       "<Figure size 432x288 with 1 Axes>"
      ]
     },
     "metadata": {
      "needs_background": "light"
     },
     "output_type": "display_data"
    }
   ],
   "source": [
    "weather_data.groupby(weather_data.index.get_level_values(0).hour).mean()[\"RH-fix\"].plot.bar(xlabel=\"hour\", ylabel=\"average rain per hour (mm)\", title=\"Average rain\")"
   ]
  },
  {
   "cell_type": "markdown",
   "metadata": {},
   "source": [
    "## Rain per station"
   ]
  },
  {
   "cell_type": "code",
   "execution_count": 12,
   "metadata": {},
   "outputs": [
    {
     "data": {
      "text/plain": [
       "F_onewayResult(statistic=-1.8265847472655374e-31, pvalue=nan)"
      ]
     },
     "execution_count": 12,
     "metadata": {},
     "output_type": "execute_result"
    },
    {
     "data": {
      "image/png": "[encoded data removed]",
      "text/plain": [
       "<Figure size 432x288 with 1 Axes>"
      ]
     },
     "metadata": {
      "needs_background": "light"
     },
     "output_type": "display_data"
    }
   ],
   "source": [
    "weather_data.groupby(\"STN\").mean()[\"RH-fix\"].plot.bar(xlabel=\"station\", ylabel=\"average rain per hour\")\n",
    "weather_data.groupby(\"STN\").mean()[\"RH-fix\"]\n",
    "\n",
    "data = [0] * 3\n",
    "for i, loc in enumerate(weather_data.index.get_level_values(1).unique()):\n",
    "    data[i] = weather_data.groupby(weather_data.index.get_level_values(0).year).mean()[\"RH-fix\"]\n",
    "\n",
    "sts.f_oneway(*data)\n",
    "# data[0]"
   ]
  },
  {
   "cell_type": "code",
   "execution_count": 17,
   "metadata": {},
   "outputs": [
    {
     "data": {
      "text/plain": [
       "0.024496601957587825"
      ]
     },
     "execution_count": 17,
     "metadata": {},
     "output_type": "execute_result"
    },
    {
     "data": {
      "image/png": "[encoded data removed]",
      "text/plain": [
       "<Figure size 432x288 with 1 Axes>"
      ]
     },
     "metadata": {
      "needs_background": "light"
     },
     "output_type": "display_data"
    }
   ],
   "source": [
    "weather_data.groupby(\"STN\").std()[\"RH-fix\"].plot.bar()\n",
    "weather_data.groupby(\"STN\").std()[\"RH-fix\"]\n",
    "\n",
    "data = [0] * 3\n",
    "for i, loc in enumerate(weather_data.index.get_level_values(1).unique()):\n",
    "    data[i] = weather_data.groupby(weather_data.index.get_level_values(0).year).mean()[\"R\"]\n",
    "\n",
    "sts.f_oneway(*data)"
   ]
  },
  {
   "cell_type": "markdown",
   "metadata": {},
   "source": [
    "## Correlation between rain per station"
   ]
  },
  {
   "cell_type": "code",
   "execution_count": null,
   "metadata": {},
   "outputs": [
    {
     "name": "stdout",
     "output_type": "stream",
     "text": [
      "Hourly:\n"
     ]
    },
    {
     "data": {
      "text/html": [
       "<div>\n",
       "<style scoped>\n",
       "    .dataframe tbody tr th:only-of-type {\n",
       "        vertical-align: middle;\n",
       "    }\n",
       "\n",
       "    .dataframe tbody tr th {\n",
       "        vertical-align: top;\n",
       "    }\n",
       "\n",
       "    .dataframe thead th {\n",
       "        text-align: right;\n",
       "    }\n",
       "</style>\n",
       "<table border=\"1\" class=\"dataframe\">\n",
       "  <thead>\n",
       "    <tr style=\"text-align: right;\">\n",
       "      <th>STN</th>\n",
       "      <th>240</th>\n",
       "      <th>260</th>\n",
       "      <th>310</th>\n",
       "    </tr>\n",
       "    <tr>\n",
       "      <th>STN</th>\n",
       "      <th></th>\n",
       "      <th></th>\n",
       "      <th></th>\n",
       "    </tr>\n",
       "  </thead>\n",
       "  <tbody>\n",
       "    <tr>\n",
       "      <th>240</th>\n",
       "      <td>1.000000</td>\n",
       "      <td>0.393208</td>\n",
       "      <td>0.197770</td>\n",
       "    </tr>\n",
       "    <tr>\n",
       "      <th>260</th>\n",
       "      <td>0.393208</td>\n",
       "      <td>1.000000</td>\n",
       "      <td>0.171562</td>\n",
       "    </tr>\n",
       "    <tr>\n",
       "      <th>310</th>\n",
       "      <td>0.197770</td>\n",
       "      <td>0.171562</td>\n",
       "      <td>1.000000</td>\n",
       "    </tr>\n",
       "  </tbody>\n",
       "</table>\n",
       "</div>"
      ],
      "text/plain": [
       "STN       240       260       310\n",
       "STN                              \n",
       "240  1.000000  0.393208  0.197770\n",
       "260  0.393208  1.000000  0.171562\n",
       "310  0.197770  0.171562  1.000000"
      ]
     },
     "metadata": {},
     "output_type": "display_data"
    },
    {
     "name": "stdout",
     "output_type": "stream",
     "text": [
      "Daily:\n"
     ]
    },
    {
     "data": {
      "text/html": [
       "<div>\n",
       "<style scoped>\n",
       "    .dataframe tbody tr th:only-of-type {\n",
       "        vertical-align: middle;\n",
       "    }\n",
       "\n",
       "    .dataframe tbody tr th {\n",
       "        vertical-align: top;\n",
       "    }\n",
       "\n",
       "    .dataframe thead th {\n",
       "        text-align: right;\n",
       "    }\n",
       "</style>\n",
       "<table border=\"1\" class=\"dataframe\">\n",
       "  <thead>\n",
       "    <tr style=\"text-align: right;\">\n",
       "      <th>STN</th>\n",
       "      <th>240</th>\n",
       "      <th>260</th>\n",
       "      <th>310</th>\n",
       "    </tr>\n",
       "    <tr>\n",
       "      <th>STN</th>\n",
       "      <th></th>\n",
       "      <th></th>\n",
       "      <th></th>\n",
       "    </tr>\n",
       "  </thead>\n",
       "  <tbody>\n",
       "    <tr>\n",
       "      <th>240</th>\n",
       "      <td>1.000000</td>\n",
       "      <td>0.766211</td>\n",
       "      <td>0.585251</td>\n",
       "    </tr>\n",
       "    <tr>\n",
       "      <th>260</th>\n",
       "      <td>0.766211</td>\n",
       "      <td>1.000000</td>\n",
       "      <td>0.581210</td>\n",
       "    </tr>\n",
       "    <tr>\n",
       "      <th>310</th>\n",
       "      <td>0.585251</td>\n",
       "      <td>0.581210</td>\n",
       "      <td>1.000000</td>\n",
       "    </tr>\n",
       "  </tbody>\n",
       "</table>\n",
       "</div>"
      ],
      "text/plain": [
       "STN       240       260       310\n",
       "STN                              \n",
       "240  1.000000  0.766211  0.585251\n",
       "260  0.766211  1.000000  0.581210\n",
       "310  0.585251  0.581210  1.000000"
      ]
     },
     "metadata": {},
     "output_type": "display_data"
    },
    {
     "name": "stdout",
     "output_type": "stream",
     "text": [
      "Weekly:\n"
     ]
    },
    {
     "data": {
      "text/html": [
       "<div>\n",
       "<style scoped>\n",
       "    .dataframe tbody tr th:only-of-type {\n",
       "        vertical-align: middle;\n",
       "    }\n",
       "\n",
       "    .dataframe tbody tr th {\n",
       "        vertical-align: top;\n",
       "    }\n",
       "\n",
       "    .dataframe thead th {\n",
       "        text-align: right;\n",
       "    }\n",
       "</style>\n",
       "<table border=\"1\" class=\"dataframe\">\n",
       "  <thead>\n",
       "    <tr style=\"text-align: right;\">\n",
       "      <th>STN</th>\n",
       "      <th>240</th>\n",
       "      <th>260</th>\n",
       "      <th>310</th>\n",
       "    </tr>\n",
       "    <tr>\n",
       "      <th>STN</th>\n",
       "      <th></th>\n",
       "      <th></th>\n",
       "      <th></th>\n",
       "    </tr>\n",
       "  </thead>\n",
       "  <tbody>\n",
       "    <tr>\n",
       "      <th>240</th>\n",
       "      <td>1.000000</td>\n",
       "      <td>0.851516</td>\n",
       "      <td>0.738255</td>\n",
       "    </tr>\n",
       "    <tr>\n",
       "      <th>260</th>\n",
       "      <td>0.851516</td>\n",
       "      <td>1.000000</td>\n",
       "      <td>0.724988</td>\n",
       "    </tr>\n",
       "    <tr>\n",
       "      <th>310</th>\n",
       "      <td>0.738255</td>\n",
       "      <td>0.724988</td>\n",
       "      <td>1.000000</td>\n",
       "    </tr>\n",
       "  </tbody>\n",
       "</table>\n",
       "</div>"
      ],
      "text/plain": [
       "STN       240       260       310\n",
       "STN                              \n",
       "240  1.000000  0.851516  0.738255\n",
       "260  0.851516  1.000000  0.724988\n",
       "310  0.738255  0.724988  1.000000"
      ]
     },
     "metadata": {},
     "output_type": "display_data"
    },
    {
     "name": "stdout",
     "output_type": "stream",
     "text": [
      "Monthly:\n"
     ]
    },
    {
     "data": {
      "text/html": [
       "<div>\n",
       "<style scoped>\n",
       "    .dataframe tbody tr th:only-of-type {\n",
       "        vertical-align: middle;\n",
       "    }\n",
       "\n",
       "    .dataframe tbody tr th {\n",
       "        vertical-align: top;\n",
       "    }\n",
       "\n",
       "    .dataframe thead th {\n",
       "        text-align: right;\n",
       "    }\n",
       "</style>\n",
       "<table border=\"1\" class=\"dataframe\">\n",
       "  <thead>\n",
       "    <tr style=\"text-align: right;\">\n",
       "      <th>STN</th>\n",
       "      <th>240</th>\n",
       "      <th>260</th>\n",
       "      <th>310</th>\n",
       "    </tr>\n",
       "    <tr>\n",
       "      <th>STN</th>\n",
       "      <th></th>\n",
       "      <th></th>\n",
       "      <th></th>\n",
       "    </tr>\n",
       "  </thead>\n",
       "  <tbody>\n",
       "    <tr>\n",
       "      <th>240</th>\n",
       "      <td>1.000000</td>\n",
       "      <td>0.882930</td>\n",
       "      <td>0.820037</td>\n",
       "    </tr>\n",
       "    <tr>\n",
       "      <th>260</th>\n",
       "      <td>0.882930</td>\n",
       "      <td>1.000000</td>\n",
       "      <td>0.790147</td>\n",
       "    </tr>\n",
       "    <tr>\n",
       "      <th>310</th>\n",
       "      <td>0.820037</td>\n",
       "      <td>0.790147</td>\n",
       "      <td>1.000000</td>\n",
       "    </tr>\n",
       "  </tbody>\n",
       "</table>\n",
       "</div>"
      ],
      "text/plain": [
       "STN       240       260       310\n",
       "STN                              \n",
       "240  1.000000  0.882930  0.820037\n",
       "260  0.882930  1.000000  0.790147\n",
       "310  0.820037  0.790147  1.000000"
      ]
     },
     "metadata": {},
     "output_type": "display_data"
    },
    {
     "name": "stdout",
     "output_type": "stream",
     "text": [
      "Yearly:\n"
     ]
    },
    {
     "data": {
      "text/html": [
       "<div>\n",
       "<style scoped>\n",
       "    .dataframe tbody tr th:only-of-type {\n",
       "        vertical-align: middle;\n",
       "    }\n",
       "\n",
       "    .dataframe tbody tr th {\n",
       "        vertical-align: top;\n",
       "    }\n",
       "\n",
       "    .dataframe thead th {\n",
       "        text-align: right;\n",
       "    }\n",
       "</style>\n",
       "<table border=\"1\" class=\"dataframe\">\n",
       "  <thead>\n",
       "    <tr style=\"text-align: right;\">\n",
       "      <th>STN</th>\n",
       "      <th>240</th>\n",
       "      <th>260</th>\n",
       "      <th>310</th>\n",
       "    </tr>\n",
       "    <tr>\n",
       "      <th>STN</th>\n",
       "      <th></th>\n",
       "      <th></th>\n",
       "      <th></th>\n",
       "    </tr>\n",
       "  </thead>\n",
       "  <tbody>\n",
       "    <tr>\n",
       "      <th>240</th>\n",
       "      <td>1.000000</td>\n",
       "      <td>0.924814</td>\n",
       "      <td>0.863636</td>\n",
       "    </tr>\n",
       "    <tr>\n",
       "      <th>260</th>\n",
       "      <td>0.924814</td>\n",
       "      <td>1.000000</td>\n",
       "      <td>0.883711</td>\n",
       "    </tr>\n",
       "    <tr>\n",
       "      <th>310</th>\n",
       "      <td>0.863636</td>\n",
       "      <td>0.883711</td>\n",
       "      <td>1.000000</td>\n",
       "    </tr>\n",
       "  </tbody>\n",
       "</table>\n",
       "</div>"
      ],
      "text/plain": [
       "STN       240       260       310\n",
       "STN                              \n",
       "240  1.000000  0.924814  0.863636\n",
       "260  0.924814  1.000000  0.883711\n",
       "310  0.863636  0.883711  1.000000"
      ]
     },
     "metadata": {},
     "output_type": "display_data"
    }
   ],
   "source": [
    "print(\"Hourly:\")\n",
    "display(weather_data[\"RH-fix\"].unstack().dropna().corr())\n",
    "print(\"Daily:\")\n",
    "display(weather_data[\"RH-fix\"].unstack().dropna().resample(\"D\").sum().corr())\n",
    "print(\"Weekly:\")\n",
    "display(weather_data[\"RH-fix\"].unstack().dropna().resample(\"W\").sum().corr())\n",
    "print(\"Monthly:\")\n",
    "display(weather_data[\"RH-fix\"].unstack().dropna().resample(\"M\").sum().corr())\n",
    "print(\"Yearly:\")\n",
    "display(weather_data[\"RH-fix\"].unstack().dropna().resample(\"Y\").sum().corr())"
   ]
  },
  {
   "cell_type": "markdown",
   "metadata": {},
   "source": [
    "## Probability of rain per hour per day"
   ]
  },
  {
   "cell_type": "code",
   "execution_count": null,
   "metadata": {},
   "outputs": [
    {
     "data": {
      "text/plain": [
       "<AxesSubplot:xlabel='month', ylabel='average probability of rain of any given hour'>"
      ]
     },
     "execution_count": 8,
     "metadata": {},
     "output_type": "execute_result"
    },
    {
     "data": {
      "image/png": "[encoded data removed]",
      "text/plain": [
       "<Figure size 432x288 with 1 Axes>"
      ]
     },
     "metadata": {
      "needs_background": "light"
     },
     "output_type": "display_data"
    }
   ],
   "source": [
    "day_rainfall = weather_data.groupby([weather_data.index.get_level_values(0).month, weather_data.index.get_level_values(0).day]).mean()[\"R\"]\n",
    "day_rainfall.index = pd.to_datetime(\"2020\" + day_rainfall.index.get_level_values(0).astype(str).str.zfill(2) + day_rainfall.index.get_level_values(1).astype(str).str.zfill(2), format=\"%Y%m%d\")\n",
    "day_rainfall.ewm(14).mean().plot(xlabel=\"month\", ylabel=\"average probability of rain of any given hour\")"
   ]
  },
  {
   "cell_type": "markdown",
   "metadata": {},
   "source": [
    "## Probability of rain per hour"
   ]
  },
  {
   "cell_type": "code",
   "execution_count": null,
   "metadata": {},
   "outputs": [
    {
     "data": {
      "text/plain": [
       "<AxesSubplot:xlabel='hour', ylabel='probability of rain'>"
      ]
     },
     "execution_count": 9,
     "metadata": {},
     "output_type": "execute_result"
    },
    {
     "data": {
      "image/png": "[encoded data removed]",
      "text/plain": [
       "<Figure size 432x288 with 1 Axes>"
      ]
     },
     "metadata": {
      "needs_background": "light"
     },
     "output_type": "display_data"
    }
   ],
   "source": [
    "weather_data.groupby(weather_data.index.get_level_values(0).hour).mean()[\"R\"].plot.bar(xlabel=\"hour\", ylabel=\"probability of rain\")"
   ]
  },
  {
   "cell_type": "markdown",
   "metadata": {},
   "source": [
    "## If it rains, how much does it rain?"
   ]
  },
  {
   "cell_type": "code",
   "execution_count": null,
   "metadata": {},
   "outputs": [
    {
     "data": {
      "text/plain": [
       "<AxesSubplot:xlabel='month', ylabel='rain per hour (mm)'>"
      ]
     },
     "execution_count": 10,
     "metadata": {},
     "output_type": "execute_result"
    },
    {
     "data": {
      "image/png": "[encoded data removed]",
      "text/plain": [
       "<Figure size 432x288 with 1 Axes>"
      ]
     },
     "metadata": {
      "needs_background": "light"
     },
     "output_type": "display_data"
    }
   ],
   "source": [
    "rain_if_falling = weather_data[weather_data[\"R\"] == 1][\"RH-fix\"]\n",
    "\n",
    "day_rainfall = rain_if_falling.groupby([rain_if_falling.index.get_level_values(0).month, rain_if_falling.index.get_level_values(0).day]).mean()\n",
    "day_rainfall.index = pd.to_datetime(\"2020\" + day_rainfall.index.get_level_values(0).astype(str).str.zfill(2) + day_rainfall.index.get_level_values(1).astype(str).str.zfill(2), format=\"%Y%m%d\")\n",
    "day_rainfall.ewm(14).mean().plot(xlabel=\"month\", ylabel=\"rain per hour (mm)\")"
   ]
  },
  {
   "cell_type": "markdown",
   "metadata": {},
   "source": [
    "## Rain over the years\n",
    "Can we see an increase or decrease in rainfall over the years?"
   ]
  },
  {
   "cell_type": "code",
   "execution_count": null,
   "metadata": {},
   "outputs": [
    {
     "data": {
      "text/plain": [
       "date\n",
       "1951-01-31    86.300000\n",
       "1951-02-28    64.800000\n",
       "1951-03-31    88.800000\n",
       "1951-04-30    79.000000\n",
       "1951-05-31    47.900000\n",
       "                ...    \n",
       "2022-02-28    99.400000\n",
       "2022-03-31    15.300000\n",
       "2022-04-30    44.833333\n",
       "2022-05-31    52.933333\n",
       "2022-06-30    34.533333\n",
       "Freq: M, Length: 858, dtype: float64"
      ]
     },
     "metadata": {},
     "output_type": "display_data"
    },
    {
     "data": {
      "text/html": [
       "<table class=\"simpletable\">\n",
       "<caption>AutoReg Model Results</caption>\n",
       "<tr>\n",
       "  <th>Dep. Variable:</th>         <td>y</td>        <th>  No. Observations:  </th>    <td>858</td>   \n",
       "</tr>\n",
       "<tr>\n",
       "  <th>Model:</th>         <td>Seas. AutoReg(0)</td> <th>  Log Likelihood     </th> <td>-4217.865</td>\n",
       "</tr>\n",
       "<tr>\n",
       "  <th>Method:</th>         <td>Conditional MLE</td> <th>  S.D. of innovations</th>  <td>33.016</td>  \n",
       "</tr>\n",
       "<tr>\n",
       "  <th>Date:</th>          <td>Wed, 15 Jun 2022</td> <th>  AIC                </th> <td>8463.731</td> \n",
       "</tr>\n",
       "<tr>\n",
       "  <th>Time:</th>              <td>20:04:47</td>     <th>  BIC                </th> <td>8530.295</td> \n",
       "</tr>\n",
       "<tr>\n",
       "  <th>Sample:</th>           <td>01-31-1951</td>    <th>  HQIC               </th> <td>8489.217</td> \n",
       "</tr>\n",
       "<tr>\n",
       "  <th></th>                 <td>- 06-30-2022</td>   <th>                     </th>     <td> </td>    \n",
       "</tr>\n",
       "</table>\n",
       "<table class=\"simpletable\">\n",
       "<tr>\n",
       "      <td></td>        <th>coef</th>     <th>std err</th>      <th>z</th>      <th>P>|z|</th>  <th>[0.025</th>    <th>0.975]</th>  \n",
       "</tr>\n",
       "<tr>\n",
       "  <th>trend</th>    <td>    0.0070</td> <td>    0.004</td> <td>    1.557</td> <td> 0.119</td> <td>   -0.002</td> <td>    0.016</td>\n",
       "</tr>\n",
       "<tr>\n",
       "  <th>s(1,12)</th>  <td>   62.1513</td> <td>    3.902</td> <td>   15.929</td> <td> 0.000</td> <td>   54.504</td> <td>   69.798</td>\n",
       "</tr>\n",
       "<tr>\n",
       "  <th>s(2,12)</th>  <td>   48.4740</td> <td>    3.709</td> <td>   13.068</td> <td> 0.000</td> <td>   41.204</td> <td>   55.744</td>\n",
       "</tr>\n",
       "<tr>\n",
       "  <th>s(3,12)</th>  <td>   49.1739</td> <td>    3.414</td> <td>   14.404</td> <td> 0.000</td> <td>   42.483</td> <td>   55.865</td>\n",
       "</tr>\n",
       "<tr>\n",
       "  <th>s(4,12)</th>  <td>   39.9596</td> <td>    3.278</td> <td>   12.190</td> <td> 0.000</td> <td>   33.535</td> <td>   46.384</td>\n",
       "</tr>\n",
       "<tr>\n",
       "  <th>s(5,12)</th>  <td>   49.6320</td> <td>    3.605</td> <td>   13.767</td> <td> 0.000</td> <td>   42.566</td> <td>   56.698</td>\n",
       "</tr>\n",
       "<tr>\n",
       "  <th>s(6,12)</th>  <td>   61.0602</td> <td>    3.965</td> <td>   15.402</td> <td> 0.000</td> <td>   53.290</td> <td>   68.831</td>\n",
       "</tr>\n",
       "<tr>\n",
       "  <th>s(7,12)</th>  <td>   72.9169</td> <td>    4.861</td> <td>   15.001</td> <td> 0.000</td> <td>   63.390</td> <td>   82.444</td>\n",
       "</tr>\n",
       "<tr>\n",
       "  <th>s(8,12)</th>  <td>   78.4728</td> <td>    5.459</td> <td>   14.374</td> <td> 0.000</td> <td>   67.773</td> <td>   89.173</td>\n",
       "</tr>\n",
       "<tr>\n",
       "  <th>s(9,12)</th>  <td>   68.7884</td> <td>    5.156</td> <td>   13.340</td> <td> 0.000</td> <td>   58.682</td> <td>   78.895</td>\n",
       "</tr>\n",
       "<tr>\n",
       "  <th>s(10,12)</th> <td>   74.8519</td> <td>    5.035</td> <td>   14.866</td> <td> 0.000</td> <td>   64.983</td> <td>   84.721</td>\n",
       "</tr>\n",
       "<tr>\n",
       "  <th>s(11,12)</th> <td>   74.3454</td> <td>    4.391</td> <td>   16.932</td> <td> 0.000</td> <td>   65.740</td> <td>   82.951</td>\n",
       "</tr>\n",
       "<tr>\n",
       "  <th>s(12,12)</th> <td>   73.1375</td> <td>    4.566</td> <td>   16.017</td> <td> 0.000</td> <td>   64.188</td> <td>   82.087</td>\n",
       "</tr>\n",
       "</table>"
      ],
      "text/plain": [
       "<class 'statsmodels.iolib.summary.Summary'>\n",
       "\"\"\"\n",
       "                            AutoReg Model Results                             \n",
       "==============================================================================\n",
       "Dep. Variable:                      y   No. Observations:                  858\n",
       "Model:               Seas. AutoReg(0)   Log Likelihood               -4217.865\n",
       "Method:               Conditional MLE   S.D. of innovations             33.016\n",
       "Date:                Wed, 15 Jun 2022   AIC                           8463.731\n",
       "Time:                        20:04:47   BIC                           8530.295\n",
       "Sample:                    01-31-1951   HQIC                          8489.217\n",
       "                         - 06-30-2022                                         \n",
       "==============================================================================\n",
       "                 coef    std err          z      P>|z|      [0.025      0.975]\n",
       "------------------------------------------------------------------------------\n",
       "trend          0.0070      0.004      1.557      0.119      -0.002       0.016\n",
       "s(1,12)       62.1513      3.902     15.929      0.000      54.504      69.798\n",
       "s(2,12)       48.4740      3.709     13.068      0.000      41.204      55.744\n",
       "s(3,12)       49.1739      3.414     14.404      0.000      42.483      55.865\n",
       "s(4,12)       39.9596      3.278     12.190      0.000      33.535      46.384\n",
       "s(5,12)       49.6320      3.605     13.767      0.000      42.566      56.698\n",
       "s(6,12)       61.0602      3.965     15.402      0.000      53.290      68.831\n",
       "s(7,12)       72.9169      4.861     15.001      0.000      63.390      82.444\n",
       "s(8,12)       78.4728      5.459     14.374      0.000      67.773      89.173\n",
       "s(9,12)       68.7884      5.156     13.340      0.000      58.682      78.895\n",
       "s(10,12)      74.8519      5.035     14.866      0.000      64.983      84.721\n",
       "s(11,12)      74.3454      4.391     16.932      0.000      65.740      82.951\n",
       "s(12,12)      73.1375      4.566     16.017      0.000      64.188      82.087\n",
       "==============================================================================\n",
       "\"\"\""
      ]
     },
     "metadata": {},
     "output_type": "display_data"
    },
    {
     "data": {
      "image/png": "[encoded data removed]",
      "text/plain": [
       "<Figure size 432x288 with 1 Axes>"
      ]
     },
     "metadata": {
      "needs_background": "light"
     },
     "output_type": "display_data"
    }
   ],
   "source": [
    "rain_per_month = weather_data[\"RH-fix\"].unstack().mean(axis=1).resample(\"M\").sum()\n",
    "display(rain_per_month)\n",
    "time_series_reg = AutoReg(rain_per_month, lags=0, seasonal=True, trend=\"t\").fit(cov_type=\"HC0\")\n",
    "display(time_series_reg.summary())\n",
    "\n",
    "plt.plot(rain_per_month.ewm(12).mean())\n",
    "plt.plot(time_series_reg.predict(start=rain_per_month.index[0], end=rain_per_month.index[-1]).resample(\"Y\").mean()[:-1])\n",
    "plt.show()"
   ]
  },
  {
   "cell_type": "markdown",
   "metadata": {},
   "source": [
    "Thus in a AR(1) model (with dummies for months), we can see that a trends exists (though it is insignificant)."
   ]
  }
 ],
 "metadata": {
  "kernelspec": {
   "display_name": "Python 3.8.8 ('base')",
   "language": "python",
   "name": "python3"
  },
  "language_info": {
   "codemirror_mode": {
    "name": "ipython",
    "version": 3
   },
   "file_extension": ".py",
   "mimetype": "text/x-python",
   "name": "python",
   "nbconvert_exporter": "python",
   "pygments_lexer": "ipython3",
   "version": "3.8.8"
  },
  "orig_nbformat": 4,
  "vscode": {
   "interpreter": {
    "hash": "7b1f0736a20a5b18a2924634d2fba4c77ea9032d7ac43aa209bf788e64b882c0"
   }
  }
 },
 "nbformat": 4,
 "nbformat_minor": 2
}
