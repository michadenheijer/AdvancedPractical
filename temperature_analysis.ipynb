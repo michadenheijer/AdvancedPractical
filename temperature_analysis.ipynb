{
 "cells": [
  {
   "cell_type": "markdown",
   "metadata": {},
   "source": [
    "# Actual Results\n",
    "## Imports"
   ]
  },
  {
   "cell_type": "code",
   "execution_count": 1,
   "metadata": {},
   "outputs": [],
   "source": [
    "import pandas as pd\n",
    "import numpy as np\n",
    "import matplotlib.pyplot as plt\n",
    "import scipy.stats as sts\n",
    "\n",
    "from io import StringIO\n",
    "\n",
    "import zipfile\n",
    "import os"
   ]
  },
  {
   "cell_type": "markdown",
   "metadata": {},
   "source": [
    "## Load data"
   ]
  },
  {
   "cell_type": "code",
   "execution_count": 2,
   "metadata": {},
   "outputs": [
    {
     "data": {
      "text/html": [
       "<div>\n",
       "<style scoped>\n",
       "    .dataframe tbody tr th:only-of-type {\n",
       "        vertical-align: middle;\n",
       "    }\n",
       "\n",
       "    .dataframe tbody tr th {\n",
       "        vertical-align: top;\n",
       "    }\n",
       "\n",
       "    .dataframe thead th {\n",
       "        text-align: right;\n",
       "    }\n",
       "</style>\n",
       "<table border=\"1\" class=\"dataframe\">\n",
       "  <thead>\n",
       "    <tr style=\"text-align: right;\">\n",
       "      <th></th>\n",
       "      <th></th>\n",
       "      <th>YYYYMMDD</th>\n",
       "      <th>HH</th>\n",
       "      <th>DD</th>\n",
       "      <th>FH</th>\n",
       "      <th>FF</th>\n",
       "      <th>FX</th>\n",
       "      <th>T</th>\n",
       "      <th>T10N</th>\n",
       "      <th>TD</th>\n",
       "      <th>SQ</th>\n",
       "      <th>...</th>\n",
       "      <th>N</th>\n",
       "      <th>U</th>\n",
       "      <th>WW</th>\n",
       "      <th>IX</th>\n",
       "      <th>M</th>\n",
       "      <th>R</th>\n",
       "      <th>S</th>\n",
       "      <th>O</th>\n",
       "      <th>Y</th>\n",
       "      <th>RH-fix</th>\n",
       "    </tr>\n",
       "    <tr>\n",
       "      <th>date</th>\n",
       "      <th>STN</th>\n",
       "      <th></th>\n",
       "      <th></th>\n",
       "      <th></th>\n",
       "      <th></th>\n",
       "      <th></th>\n",
       "      <th></th>\n",
       "      <th></th>\n",
       "      <th></th>\n",
       "      <th></th>\n",
       "      <th></th>\n",
       "      <th></th>\n",
       "      <th></th>\n",
       "      <th></th>\n",
       "      <th></th>\n",
       "      <th></th>\n",
       "      <th></th>\n",
       "      <th></th>\n",
       "      <th></th>\n",
       "      <th></th>\n",
       "      <th></th>\n",
       "      <th></th>\n",
       "    </tr>\n",
       "  </thead>\n",
       "  <tbody>\n",
       "    <tr>\n",
       "      <th>1971-01-01 00:00:00</th>\n",
       "      <th>240</th>\n",
       "      <td>19710101</td>\n",
       "      <td>1</td>\n",
       "      <td>140</td>\n",
       "      <td>15.0</td>\n",
       "      <td>10</td>\n",
       "      <td>26.0</td>\n",
       "      <td>-87</td>\n",
       "      <td>NaN</td>\n",
       "      <td>-95.0</td>\n",
       "      <td>NaN</td>\n",
       "      <td>...</td>\n",
       "      <td>9.0</td>\n",
       "      <td>93.0</td>\n",
       "      <td>49.0</td>\n",
       "      <td>NaN</td>\n",
       "      <td>1.0</td>\n",
       "      <td>0.0</td>\n",
       "      <td>0.0</td>\n",
       "      <td>0.0</td>\n",
       "      <td>0.0</td>\n",
       "      <td>0.0</td>\n",
       "    </tr>\n",
       "    <tr>\n",
       "      <th>1971-01-01 01:00:00</th>\n",
       "      <th>240</th>\n",
       "      <td>19710101</td>\n",
       "      <td>2</td>\n",
       "      <td>130</td>\n",
       "      <td>10.0</td>\n",
       "      <td>10</td>\n",
       "      <td>26.0</td>\n",
       "      <td>-80</td>\n",
       "      <td>NaN</td>\n",
       "      <td>-87.0</td>\n",
       "      <td>NaN</td>\n",
       "      <td>...</td>\n",
       "      <td>9.0</td>\n",
       "      <td>94.0</td>\n",
       "      <td>49.0</td>\n",
       "      <td>NaN</td>\n",
       "      <td>1.0</td>\n",
       "      <td>0.0</td>\n",
       "      <td>0.0</td>\n",
       "      <td>0.0</td>\n",
       "      <td>0.0</td>\n",
       "      <td>0.0</td>\n",
       "    </tr>\n",
       "    <tr>\n",
       "      <th>1971-01-01 02:00:00</th>\n",
       "      <th>240</th>\n",
       "      <td>19710101</td>\n",
       "      <td>3</td>\n",
       "      <td>190</td>\n",
       "      <td>10.0</td>\n",
       "      <td>10</td>\n",
       "      <td>21.0</td>\n",
       "      <td>-73</td>\n",
       "      <td>NaN</td>\n",
       "      <td>-80.0</td>\n",
       "      <td>NaN</td>\n",
       "      <td>...</td>\n",
       "      <td>9.0</td>\n",
       "      <td>94.0</td>\n",
       "      <td>49.0</td>\n",
       "      <td>NaN</td>\n",
       "      <td>1.0</td>\n",
       "      <td>0.0</td>\n",
       "      <td>0.0</td>\n",
       "      <td>0.0</td>\n",
       "      <td>0.0</td>\n",
       "      <td>0.0</td>\n",
       "    </tr>\n",
       "    <tr>\n",
       "      <th>1971-01-01 03:00:00</th>\n",
       "      <th>240</th>\n",
       "      <td>19710101</td>\n",
       "      <td>4</td>\n",
       "      <td>210</td>\n",
       "      <td>10.0</td>\n",
       "      <td>10</td>\n",
       "      <td>21.0</td>\n",
       "      <td>-77</td>\n",
       "      <td>NaN</td>\n",
       "      <td>-84.0</td>\n",
       "      <td>NaN</td>\n",
       "      <td>...</td>\n",
       "      <td>9.0</td>\n",
       "      <td>94.0</td>\n",
       "      <td>49.0</td>\n",
       "      <td>NaN</td>\n",
       "      <td>1.0</td>\n",
       "      <td>0.0</td>\n",
       "      <td>0.0</td>\n",
       "      <td>0.0</td>\n",
       "      <td>0.0</td>\n",
       "      <td>0.0</td>\n",
       "    </tr>\n",
       "    <tr>\n",
       "      <th>1971-01-01 04:00:00</th>\n",
       "      <th>240</th>\n",
       "      <td>19710101</td>\n",
       "      <td>5</td>\n",
       "      <td>190</td>\n",
       "      <td>15.0</td>\n",
       "      <td>15</td>\n",
       "      <td>21.0</td>\n",
       "      <td>-84</td>\n",
       "      <td>NaN</td>\n",
       "      <td>-91.0</td>\n",
       "      <td>NaN</td>\n",
       "      <td>...</td>\n",
       "      <td>9.0</td>\n",
       "      <td>94.0</td>\n",
       "      <td>49.0</td>\n",
       "      <td>NaN</td>\n",
       "      <td>1.0</td>\n",
       "      <td>0.0</td>\n",
       "      <td>0.0</td>\n",
       "      <td>0.0</td>\n",
       "      <td>0.0</td>\n",
       "      <td>0.0</td>\n",
       "    </tr>\n",
       "    <tr>\n",
       "      <th>...</th>\n",
       "      <th>...</th>\n",
       "      <td>...</td>\n",
       "      <td>...</td>\n",
       "      <td>...</td>\n",
       "      <td>...</td>\n",
       "      <td>...</td>\n",
       "      <td>...</td>\n",
       "      <td>...</td>\n",
       "      <td>...</td>\n",
       "      <td>...</td>\n",
       "      <td>...</td>\n",
       "      <td>...</td>\n",
       "      <td>...</td>\n",
       "      <td>...</td>\n",
       "      <td>...</td>\n",
       "      <td>...</td>\n",
       "      <td>...</td>\n",
       "      <td>...</td>\n",
       "      <td>...</td>\n",
       "      <td>...</td>\n",
       "      <td>...</td>\n",
       "      <td>...</td>\n",
       "    </tr>\n",
       "    <tr>\n",
       "      <th>2020-12-31 19:00:00</th>\n",
       "      <th>260</th>\n",
       "      <td>20201231</td>\n",
       "      <td>20</td>\n",
       "      <td>220</td>\n",
       "      <td>10.0</td>\n",
       "      <td>10</td>\n",
       "      <td>20.0</td>\n",
       "      <td>14</td>\n",
       "      <td>NaN</td>\n",
       "      <td>10.0</td>\n",
       "      <td>0.0</td>\n",
       "      <td>...</td>\n",
       "      <td>8.0</td>\n",
       "      <td>96.0</td>\n",
       "      <td>10.0</td>\n",
       "      <td>7.0</td>\n",
       "      <td>0.0</td>\n",
       "      <td>0.0</td>\n",
       "      <td>0.0</td>\n",
       "      <td>0.0</td>\n",
       "      <td>0.0</td>\n",
       "      <td>0.0</td>\n",
       "    </tr>\n",
       "    <tr>\n",
       "      <th>2020-12-31 20:00:00</th>\n",
       "      <th>260</th>\n",
       "      <td>20201231</td>\n",
       "      <td>21</td>\n",
       "      <td>290</td>\n",
       "      <td>10.0</td>\n",
       "      <td>10</td>\n",
       "      <td>20.0</td>\n",
       "      <td>6</td>\n",
       "      <td>NaN</td>\n",
       "      <td>4.0</td>\n",
       "      <td>0.0</td>\n",
       "      <td>...</td>\n",
       "      <td>1.0</td>\n",
       "      <td>98.0</td>\n",
       "      <td>34.0</td>\n",
       "      <td>7.0</td>\n",
       "      <td>1.0</td>\n",
       "      <td>0.0</td>\n",
       "      <td>0.0</td>\n",
       "      <td>0.0</td>\n",
       "      <td>0.0</td>\n",
       "      <td>0.0</td>\n",
       "    </tr>\n",
       "    <tr>\n",
       "      <th>2020-12-31 21:00:00</th>\n",
       "      <th>260</th>\n",
       "      <td>20201231</td>\n",
       "      <td>22</td>\n",
       "      <td>200</td>\n",
       "      <td>10.0</td>\n",
       "      <td>10</td>\n",
       "      <td>20.0</td>\n",
       "      <td>-10</td>\n",
       "      <td>NaN</td>\n",
       "      <td>-13.0</td>\n",
       "      <td>0.0</td>\n",
       "      <td>...</td>\n",
       "      <td>3.0</td>\n",
       "      <td>98.0</td>\n",
       "      <td>35.0</td>\n",
       "      <td>7.0</td>\n",
       "      <td>1.0</td>\n",
       "      <td>0.0</td>\n",
       "      <td>0.0</td>\n",
       "      <td>0.0</td>\n",
       "      <td>1.0</td>\n",
       "      <td>0.0</td>\n",
       "    </tr>\n",
       "    <tr>\n",
       "      <th>2020-12-31 22:00:00</th>\n",
       "      <th>260</th>\n",
       "      <td>20201231</td>\n",
       "      <td>23</td>\n",
       "      <td>240</td>\n",
       "      <td>10.0</td>\n",
       "      <td>10</td>\n",
       "      <td>10.0</td>\n",
       "      <td>-17</td>\n",
       "      <td>NaN</td>\n",
       "      <td>-19.0</td>\n",
       "      <td>0.0</td>\n",
       "      <td>...</td>\n",
       "      <td>3.0</td>\n",
       "      <td>99.0</td>\n",
       "      <td>35.0</td>\n",
       "      <td>7.0</td>\n",
       "      <td>1.0</td>\n",
       "      <td>0.0</td>\n",
       "      <td>0.0</td>\n",
       "      <td>0.0</td>\n",
       "      <td>1.0</td>\n",
       "      <td>0.0</td>\n",
       "    </tr>\n",
       "    <tr>\n",
       "      <th>2020-12-31 23:00:00</th>\n",
       "      <th>260</th>\n",
       "      <td>20201231</td>\n",
       "      <td>24</td>\n",
       "      <td>230</td>\n",
       "      <td>10.0</td>\n",
       "      <td>10</td>\n",
       "      <td>10.0</td>\n",
       "      <td>-21</td>\n",
       "      <td>-14.0</td>\n",
       "      <td>-21.0</td>\n",
       "      <td>0.0</td>\n",
       "      <td>...</td>\n",
       "      <td>7.0</td>\n",
       "      <td>99.0</td>\n",
       "      <td>35.0</td>\n",
       "      <td>7.0</td>\n",
       "      <td>1.0</td>\n",
       "      <td>0.0</td>\n",
       "      <td>0.0</td>\n",
       "      <td>0.0</td>\n",
       "      <td>1.0</td>\n",
       "      <td>0.0</td>\n",
       "    </tr>\n",
       "  </tbody>\n",
       "</table>\n",
       "<p>1878408 rows × 25 columns</p>\n",
       "</div>"
      ],
      "text/plain": [
       "                         YYYYMMDD  HH   DD    FH  FF    FX   T  T10N    TD  \\\n",
       "date                STN                                                      \n",
       "1971-01-01 00:00:00 240  19710101   1  140  15.0  10  26.0 -87   NaN -95.0   \n",
       "1971-01-01 01:00:00 240  19710101   2  130  10.0  10  26.0 -80   NaN -87.0   \n",
       "1971-01-01 02:00:00 240  19710101   3  190  10.0  10  21.0 -73   NaN -80.0   \n",
       "1971-01-01 03:00:00 240  19710101   4  210  10.0  10  21.0 -77   NaN -84.0   \n",
       "1971-01-01 04:00:00 240  19710101   5  190  15.0  15  21.0 -84   NaN -91.0   \n",
       "...                           ...  ..  ...   ...  ..   ...  ..   ...   ...   \n",
       "2020-12-31 19:00:00 260  20201231  20  220  10.0  10  20.0  14   NaN  10.0   \n",
       "2020-12-31 20:00:00 260  20201231  21  290  10.0  10  20.0   6   NaN   4.0   \n",
       "2020-12-31 21:00:00 260  20201231  22  200  10.0  10  20.0 -10   NaN -13.0   \n",
       "2020-12-31 22:00:00 260  20201231  23  240  10.0  10  10.0 -17   NaN -19.0   \n",
       "2020-12-31 23:00:00 260  20201231  24  230  10.0  10  10.0 -21 -14.0 -21.0   \n",
       "\n",
       "                          SQ  ...    N     U    WW   IX    M    R    S    O  \\\n",
       "date                STN       ...                                             \n",
       "1971-01-01 00:00:00 240  NaN  ...  9.0  93.0  49.0  NaN  1.0  0.0  0.0  0.0   \n",
       "1971-01-01 01:00:00 240  NaN  ...  9.0  94.0  49.0  NaN  1.0  0.0  0.0  0.0   \n",
       "1971-01-01 02:00:00 240  NaN  ...  9.0  94.0  49.0  NaN  1.0  0.0  0.0  0.0   \n",
       "1971-01-01 03:00:00 240  NaN  ...  9.0  94.0  49.0  NaN  1.0  0.0  0.0  0.0   \n",
       "1971-01-01 04:00:00 240  NaN  ...  9.0  94.0  49.0  NaN  1.0  0.0  0.0  0.0   \n",
       "...                      ...  ...  ...   ...   ...  ...  ...  ...  ...  ...   \n",
       "2020-12-31 19:00:00 260  0.0  ...  8.0  96.0  10.0  7.0  0.0  0.0  0.0  0.0   \n",
       "2020-12-31 20:00:00 260  0.0  ...  1.0  98.0  34.0  7.0  1.0  0.0  0.0  0.0   \n",
       "2020-12-31 21:00:00 260  0.0  ...  3.0  98.0  35.0  7.0  1.0  0.0  0.0  0.0   \n",
       "2020-12-31 22:00:00 260  0.0  ...  3.0  99.0  35.0  7.0  1.0  0.0  0.0  0.0   \n",
       "2020-12-31 23:00:00 260  0.0  ...  7.0  99.0  35.0  7.0  1.0  0.0  0.0  0.0   \n",
       "\n",
       "                           Y  RH-fix  \n",
       "date                STN               \n",
       "1971-01-01 00:00:00 240  0.0     0.0  \n",
       "1971-01-01 01:00:00 240  0.0     0.0  \n",
       "1971-01-01 02:00:00 240  0.0     0.0  \n",
       "1971-01-01 03:00:00 240  0.0     0.0  \n",
       "1971-01-01 04:00:00 240  0.0     0.0  \n",
       "...                      ...     ...  \n",
       "2020-12-31 19:00:00 260  0.0     0.0  \n",
       "2020-12-31 20:00:00 260  0.0     0.0  \n",
       "2020-12-31 21:00:00 260  1.0     0.0  \n",
       "2020-12-31 22:00:00 260  1.0     0.0  \n",
       "2020-12-31 23:00:00 260  1.0     0.0  \n",
       "\n",
       "[1878408 rows x 25 columns]"
      ]
     },
     "execution_count": 2,
     "metadata": {},
     "output_type": "execute_result"
    }
   ],
   "source": [
    "weather_data = pd.DataFrame()\n",
    "\n",
    "for file in os.listdir(\"weather-data\"):\n",
    "    with open(f\"weather-data/{file}\") as f:\n",
    "        data = f.read()\n",
    "        data = data[data.find(\"#\")+1:]\n",
    "        curr_data = pd.read_csv(StringIO(data), low_memory=False)\n",
    "        weather_data = pd.concat([weather_data, curr_data])\n",
    "    \n",
    "weather_data.columns = weather_data.columns.str.strip()\n",
    "weather_data: pd.DataFrame = weather_data.apply(pd.to_numeric, errors='coerce')\n",
    "date = pd.to_datetime(weather_data[\"YYYYMMDD\"].astype(str) + (weather_data[\"HH\"] - 1).astype(str).str.zfill(2), format=\"%Y%m%d%H\", errors='coerce')\n",
    "weather_data = pd.concat([date, weather_data], axis=1)\n",
    "weather_data.rename({0: \"date\"}, axis=1, inplace=True)\n",
    "weather_data.loc[:, \"RH-fix\"] = weather_data[\"RH\"].replace({-1: 0}) / 10\n",
    "weather_data.set_index([\"date\", \"STN\"], inplace=True)\n",
    "weather_data.to_hdf(\"weather_data.hdf5\", \"measured_data\")\n",
    "weather_data"
   ]
  },
  {
   "cell_type": "markdown",
   "metadata": {},
   "source": [
    "## Average rain per day"
   ]
  },
  {
   "cell_type": "code",
   "execution_count": 3,
   "metadata": {},
   "outputs": [
    {
     "data": {
      "text/plain": [
       "<AxesSubplot:xlabel='date'>"
      ]
     },
     "execution_count": 3,
     "metadata": {},
     "output_type": "execute_result"
    },
    {
     "data": {
      "image/png": "[encoded data removed]",
      "text/plain": [
       "<Figure size 432x288 with 1 Axes>"
      ]
     },
     "metadata": {
      "needs_background": "light"
     },
     "output_type": "display_data"
    }
   ],
   "source": [
    "day_rainfall = weather_data.groupby([weather_data.index.get_level_values(0).month, weather_data.index.get_level_values(0).day]).mean()[\"RH-fix\"]\n",
    "day_rainfall.index = pd.to_datetime(\"2020\" + day_rainfall.index.get_level_values(0).astype(str).str.zfill(2) + day_rainfall.index.get_level_values(1).astype(str).str.zfill(2), format=\"%Y%m%d\")\n",
    "day_rainfall.ewm(14).mean().plot()"
   ]
  },
  {
   "cell_type": "markdown",
   "metadata": {},
   "source": [
    "## Rain per hour"
   ]
  },
  {
   "cell_type": "code",
   "execution_count": 4,
   "metadata": {},
   "outputs": [
    {
     "data": {
      "text/plain": [
       "<AxesSubplot:xlabel='date'>"
      ]
     },
     "execution_count": 4,
     "metadata": {},
     "output_type": "execute_result"
    },
    {
     "data": {
      "image/png": "[encoded data removed]",
      "text/plain": [
       "<Figure size 432x288 with 1 Axes>"
      ]
     },
     "metadata": {
      "needs_background": "light"
     },
     "output_type": "display_data"
    }
   ],
   "source": [
    "weather_data.groupby(weather_data.index.get_level_values(0).hour).mean()[\"RH-fix\"].plot.bar()"
   ]
  },
  {
   "cell_type": "markdown",
   "metadata": {},
   "source": [
    "## Rain per station"
   ]
  },
  {
   "cell_type": "code",
   "execution_count": 5,
   "metadata": {},
   "outputs": [
    {
     "data": {
      "text/plain": [
       "STN\n",
       "240    0.091861\n",
       "260    0.093606\n",
       "310    0.084906\n",
       "Name: RH-fix, dtype: float64"
      ]
     },
     "execution_count": 5,
     "metadata": {},
     "output_type": "execute_result"
    },
    {
     "data": {
      "image/png": "[encoded data removed]",
      "text/plain": [
       "<Figure size 432x288 with 1 Axes>"
      ]
     },
     "metadata": {
      "needs_background": "light"
     },
     "output_type": "display_data"
    }
   ],
   "source": [
    "weather_data.groupby(\"STN\").mean()[\"RH-fix\"].plot.bar()\n",
    "weather_data.groupby(\"STN\").mean()[\"RH-fix\"]"
   ]
  },
  {
   "cell_type": "markdown",
   "metadata": {},
   "source": [
    "Het is dus geen geometric distribution"
   ]
  },
  {
   "cell_type": "markdown",
   "metadata": {},
   "source": [
    "## Probability of rain per day"
   ]
  },
  {
   "cell_type": "code",
   "execution_count": 6,
   "metadata": {},
   "outputs": [
    {
     "data": {
      "text/plain": [
       "<AxesSubplot:xlabel='date'>"
      ]
     },
     "execution_count": 6,
     "metadata": {},
     "output_type": "execute_result"
    },
    {
     "data": {
      "image/png": "[encoded data removed]",
      "text/plain": [
       "<Figure size 432x288 with 1 Axes>"
      ]
     },
     "metadata": {
      "needs_background": "light"
     },
     "output_type": "display_data"
    }
   ],
   "source": [
    "day_rainfall = weather_data.groupby([weather_data.index.get_level_values(0).month, weather_data.index.get_level_values(0).day]).mean()[\"R\"]\n",
    "day_rainfall.index = pd.to_datetime(\"2020\" + day_rainfall.index.get_level_values(0).astype(str).str.zfill(2) + day_rainfall.index.get_level_values(1).astype(str).str.zfill(2), format=\"%Y%m%d\")\n",
    "day_rainfall.ewm(14).mean().plot()"
   ]
  },
  {
   "cell_type": "markdown",
   "metadata": {},
   "source": [
    "## Probability of rain per hour"
   ]
  },
  {
   "cell_type": "code",
   "execution_count": 7,
   "metadata": {},
   "outputs": [
    {
     "data": {
      "text/plain": [
       "<AxesSubplot:xlabel='date'>"
      ]
     },
     "execution_count": 7,
     "metadata": {},
     "output_type": "execute_result"
    },
    {
     "data": {
      "image/png": "[encoded data removed]",
      "text/plain": [
       "<Figure size 432x288 with 1 Axes>"
      ]
     },
     "metadata": {
      "needs_background": "light"
     },
     "output_type": "display_data"
    }
   ],
   "source": [
    "weather_data.groupby(weather_data.index.get_level_values(0).hour).mean()[\"R\"].plot.bar()"
   ]
  },
  {
   "cell_type": "markdown",
   "metadata": {},
   "source": [
    "## If it rains, how much does it rain?"
   ]
  },
  {
   "cell_type": "code",
   "execution_count": 8,
   "metadata": {},
   "outputs": [
    {
     "data": {
      "text/plain": [
       "<AxesSubplot:xlabel='date'>"
      ]
     },
     "execution_count": 8,
     "metadata": {},
     "output_type": "execute_result"
    },
    {
     "data": {
      "image/png": "[encoded data removed]",
      "text/plain": [
       "<Figure size 432x288 with 1 Axes>"
      ]
     },
     "metadata": {
      "needs_background": "light"
     },
     "output_type": "display_data"
    }
   ],
   "source": [
    "rain_if_falling = weather_data[weather_data[\"R\"] == 1][\"RH-fix\"]\n",
    "\n",
    "day_rainfall = rain_if_falling.groupby([rain_if_falling.index.get_level_values(0).month, rain_if_falling.index.get_level_values(0).day]).mean()\n",
    "day_rainfall.index = pd.to_datetime(\"2020\" + day_rainfall.index.get_level_values(0).astype(str).str.zfill(2) + day_rainfall.index.get_level_values(1).astype(str).str.zfill(2), format=\"%Y%m%d\")\n",
    "day_rainfall.ewm(14).mean().plot()"
   ]
  },
  {
   "cell_type": "markdown",
   "metadata": {},
   "source": [
    "## Rain over the years"
   ]
  },
  {
   "cell_type": "code",
   "execution_count": 13,
   "metadata": {},
   "outputs": [
    {
     "data": {
      "text/plain": [
       "<AxesSubplot:xlabel='date'>"
      ]
     },
     "execution_count": 13,
     "metadata": {},
     "output_type": "execute_result"
    },
    {
     "data": {
      "image/png": "[encoded data removed]",
      "text/plain": [
       "<Figure size 432x288 with 1 Axes>"
      ]
     },
     "metadata": {
      "needs_background": "light"
     },
     "output_type": "display_data"
    }
   ],
   "source": [
    "weather_data.groupby(weather_data.index.get_level_values(0).year).mean()[\"RH-fix\"].plot()"
   ]
  }
 ],
 "metadata": {
  "interpreter": {
   "hash": "1c7434731747d88815ea98a4470429bf1ebbf9287f8433fda1e0ecccc300fe0c"
  },
  "kernelspec": {
   "display_name": "Python 3.8.3 ('base')",
   "language": "python",
   "name": "python3"
  },
  "language_info": {
   "codemirror_mode": {
    "name": "ipython",
    "version": 3
   },
   "file_extension": ".py",
   "mimetype": "text/x-python",
   "name": "python",
   "nbconvert_exporter": "python",
   "pygments_lexer": "ipython3",
   "version": "3.8.3"
  },
  "orig_nbformat": 4
 },
 "nbformat": 4,
 "nbformat_minor": 2
}
